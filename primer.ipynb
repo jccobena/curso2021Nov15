{
 "cells": [
  {
   "cell_type": "code",
   "execution_count": 2,
   "id": "08545218",
   "metadata": {},
   "outputs": [
    {
     "name": "stdout",
     "output_type": "stream",
     "text": [
      "hola mundo 1\n"
     ]
    }
   ],
   "source": [
    "print('hola mundo 1')"
   ]
  },
  {
   "cell_type": "markdown",
   "id": "9ff57dac",
   "metadata": {},
   "source": [
    "hola es un texto"
   ]
  },
  {
   "cell_type": "code",
   "execution_count": null,
   "id": "1c7ac847",
   "metadata": {},
   "outputs": [],
   "source": []
  },
  {
   "cell_type": "code",
   "execution_count": null,
   "id": "f404b444",
   "metadata": {},
   "outputs": [],
   "source": []
  }
 ],
 "metadata": {
  "kernelspec": {
   "display_name": "Python 3 (ipykernel)",
   "language": "python",
   "name": "python3"
  },
  "language_info": {
   "codemirror_mode": {
    "name": "ipython",
    "version": 3
   },
   "file_extension": ".py",
   "mimetype": "text/x-python",
   "name": "python",
   "nbconvert_exporter": "python",
   "pygments_lexer": "ipython3",
   "version": "3.10.0"
  }
 },
 "nbformat": 4,
 "nbformat_minor": 5
}
